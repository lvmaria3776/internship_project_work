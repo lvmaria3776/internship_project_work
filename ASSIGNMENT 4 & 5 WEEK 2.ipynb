{
 "cells": [
  {
   "cell_type": "code",
   "execution_count": 13,
   "id": "149efe1f-c061-4a60-88be-5d987671972e",
   "metadata": {},
   "outputs": [
    {
     "name": "stdout",
     "output_type": "stream",
     "text": [
      "None\n",
      "True\n"
     ]
    }
   ],
   "source": [
    "#q1Check if two strings are anagrams (case-insensitive, ignoring spaces).\n",
    "def is_anagram(str1, str2):\n",
    "    pass\n",
    "print(is_anagram(\"Listen\", \"Silent\"))\n",
    "def is_anagram(str1, str2):\n",
    "    return sorted(str1.replace(\" \", \"\").lower()) == sorted(str2.replace(\" \", \"\").lower())\n",
    "print(is_anagram(\"Listen\", \"Silent\"))"
   ]
  },
  {
   "cell_type": "code",
   "execution_count": 14,
   "id": "39c7a069-f1d4-4905-83fb-36152fed46ff",
   "metadata": {},
   "outputs": [
    {
     "name": "stdout",
     "output_type": "stream",
     "text": [
      "None\n",
      "[1, 2]\n"
     ]
    }
   ],
   "source": [
    "#q2Return a list of duplicates from the input list.\n",
    "def find_duplicates(lst):\n",
    "    pass\n",
    "print(find_duplicates([1, 2, 3, 2, 4, 5, 1]))\n",
    "def find_duplicates(lst):\n",
    "    seen = set()\n",
    "    duplicates = set()\n",
    "    for num in lst:\n",
    "        if num in seen:\n",
    "            duplicates.add(num)\n",
    "        else:\n",
    "            seen.add(num)\n",
    "    return list(duplicates)\n",
    "print(find_duplicates([1, 2, 3, 2, 4, 5, 1]))"
   ]
  },
  {
   "cell_type": "code",
   "execution_count": 15,
   "id": "d51d0bf8-0416-40bb-8226-683df4b980c2",
   "metadata": {},
   "outputs": [
    {
     "name": "stdout",
     "output_type": "stream",
     "text": [
      "None\n",
      "c\n"
     ]
    }
   ],
   "source": [
    "#q3Return the first non-repeating character in a string.\n",
    "def first_non_repeating_char(s):\n",
    "    pass\n",
    "print(first_non_repeating_char(\"abracadabra\"))\n",
    "from collections import Counter\n",
    "def first_non_repeating_char(s):\n",
    "    freq = Counter(s)\n",
    "    for ch in s:\n",
    "        if freq[ch] == 1:\n",
    "            return ch\n",
    "    return None\n",
    "print(first_non_repeating_char(\"abracadabra\"))"
   ]
  },
  {
   "cell_type": "code",
   "execution_count": 6,
   "id": "1d3fbb86-179a-4e12-b445-e45c97827f36",
   "metadata": {},
   "outputs": [
    {
     "name": "stdout",
     "output_type": "stream",
     "text": [
      "9227465\n"
     ]
    }
   ],
   "source": [
    "#q4Calculate nth Fibonacci number using memoization.\n",
    "def fib(n, memo={}):\n",
    "    if n in memo:\n",
    "        return memo[n]\n",
    "    if n <= 1:\n",
    "        return n\n",
    "    memo[n] = fib(n - 1, memo) + fib(n - 2, memo)\n",
    "    return memo[n]\n",
    "\n",
    "print(fib(35))  \n"
   ]
  },
  {
   "cell_type": "code",
   "execution_count": 16,
   "id": "28d9718d-6e18-492a-a3e6-16e79141b707",
   "metadata": {},
   "outputs": [
    {
     "name": "stdout",
     "output_type": "stream",
     "text": [
      "None\n",
      "(2, 7)\n"
     ]
    }
   ],
   "source": [
    "#Q5Find two numbers that sum to a target value\n",
    "def two_sum(nums, target):\n",
    "    pass\n",
    "print(two_sum([2, 7, 11, 15], 9))\n",
    "def two_sum(nums, target):\n",
    "    seen = {}\n",
    "    for num in nums:\n",
    "        diff = target - num\n",
    "        if diff in seen:\n",
    "            return (diff, num)\n",
    "        seen[num] = True\n",
    "print(two_sum([2, 7, 11, 15], 9))\n"
   ]
  },
  {
   "cell_type": "code",
   "execution_count": 17,
   "id": "48619101-888c-426c-a73d-731cfbd10105",
   "metadata": {},
   "outputs": [
    {
     "name": "stdout",
     "output_type": "stream",
     "text": [
      "None\n",
      "14\n"
     ]
    }
   ],
   "source": [
    "#q6Convert a Roman numeral string to an integer.\n",
    "def roman_to_int(s):\n",
    "    pass\n",
    "print(roman_to_int(\"XIV\"))\n",
    "def roman_to_int(s):\n",
    "    roman = {'I': 1, 'V': 5, 'X': 10, 'L': 50,\n",
    "             'C': 100, 'D': 500, 'M': 1000}\n",
    "    total = 0\n",
    "    prev_value = 0\n",
    "    for char in reversed(s):\n",
    "        if roman[char] < prev_value:\n",
    "            total -= roman[char]\n",
    "        else:\n",
    "            total += roman[char]\n",
    "        prev_value = roman[char]\n",
    "    return total\n",
    "print(roman_to_int(\"XIV\"))"
   ]
  },
  {
   "cell_type": "code",
   "execution_count": 19,
   "id": "3a40e87e-2ca6-4e36-ae16-fdd6cfeb930f",
   "metadata": {},
   "outputs": [
    {
     "name": "stdout",
     "output_type": "stream",
     "text": [
      "[5, 4, 3, 2, 1]\n"
     ]
    }
   ],
   "source": [
    "#q7 Reverse a linked list represented by Python list.\n",
    "def reverse_list(lst):\n",
    "    return lst[::-1]\n",
    "print(reverse_list([1, 2, 3, 4, 5]))\n"
   ]
  },
  {
   "cell_type": "code",
   "execution_count": 21,
   "id": "fe46073d-d9fa-41b6-bd51-ec6e504365a0",
   "metadata": {},
   "outputs": [
    {
     "name": "stdout",
     "output_type": "stream",
     "text": [
      "True\n",
      "False\n"
     ]
    }
   ],
   "source": [
    "#q8Check if parentheses in a string are balanced.\n",
    "def is_balanced(expr):\n",
    "    stack = []\n",
    "    for char in expr:\n",
    "        if char == '(':\n",
    "            stack.append(char)\n",
    "        elif char == ')':\n",
    "            if not stack:\n",
    "                return False\n",
    "            stack.pop()\n",
    "    return not stack\n",
    "print(is_balanced(\"(())()\"))\n",
    "print(is_balanced(\"(()\"))"
   ]
  },
  {
   "cell_type": "code",
   "execution_count": 23,
   "id": "0d672992-3cfe-493a-b90c-5c8626d68423",
   "metadata": {},
   "outputs": [
    {
     "name": "stdout",
     "output_type": "stream",
     "text": [
      "aaimr\n"
     ]
    }
   ],
   "source": [
    "#q9 Sort characters based on frequency (descending).\n",
    "from collections import Counter\n",
    "def frequency_sort(s):\n",
    "    freq = Counter(s)\n",
    "    return ''.join(sorted(s, key=lambda x: (-freq[x], x)))\n",
    "print(frequency_sort(\"maria\"))\n"
   ]
  },
  {
   "cell_type": "code",
   "execution_count": null,
   "id": "ec8a8916-49da-43eb-96e4-96fdb5a54991",
   "metadata": {},
   "outputs": [],
   "source": []
  }
 ],
 "metadata": {
  "kernelspec": {
   "display_name": "Python 3 (ipykernel)",
   "language": "python",
   "name": "python3"
  },
  "language_info": {
   "codemirror_mode": {
    "name": "ipython",
    "version": 3
   },
   "file_extension": ".py",
   "mimetype": "text/x-python",
   "name": "python",
   "nbconvert_exporter": "python",
   "pygments_lexer": "ipython3",
   "version": "3.12.7"
  }
 },
 "nbformat": 4,
 "nbformat_minor": 5
}
