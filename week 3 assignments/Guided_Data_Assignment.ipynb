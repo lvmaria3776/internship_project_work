{
 "cells": [
  {
   "cell_type": "markdown",
   "id": "ce09bf11",
   "metadata": {},
   "source": [
    "# 📘 Guided Internship Notebook: Reading & Subsetting Data in Python"
   ]
  },
  {
   "cell_type": "markdown",
   "id": "d1ed0aea",
   "metadata": {},
   "source": [
    "## 🧾 1. Load and Preview CSV Data"
   ]
  },
  {
   "cell_type": "code",
   "execution_count": null,
   "id": "682b155b",
   "metadata": {},
   "outputs": [],
   "source": [
    "import pandas as pd\n",
    "\n",
    "# Load the Big Mart dataset\n",
    "csv_path = \"dataset/big_mart_sales.csv\"\n",
    "df_csv = pd.read_csv(csv_path)\n",
    "df_csv.head()"
   ]
  },
  {
   "cell_type": "markdown",
   "id": "64367072",
   "metadata": {},
   "source": [
    "# ✅ Task 1:\n",
    "# - View column names\n",
    "# - Check for null values\n",
    "print(df_csv.columns)\n",
    "df_csv.isnull().sum()"
   ]
  },
  {
   "cell_type": "markdown",
   "id": "a707ad3f",
   "metadata": {},
   "source": [
    "# 💡 Use Case: Top 5 products with highest sales\n",
    "df_csv.groupby(\"Item_Identifier\")[\"Item_Outlet_Sales\"].sum().sort_values(ascending=False).head()"
   ]
  },
  {
   "cell_type": "markdown",
   "id": "98ca4b03",
   "metadata": {},
   "source": [
    "## 📑 2. Load JSON Data"
   ]
  },
  {
   "cell_type": "code",
   "execution_count": null,
   "id": "eea2f02d",
   "metadata": {},
   "outputs": [],
   "source": [
    "import json\n",
    "\n",
    "# Load the JSON data\n",
    "json_path = \"dataset/simple.json\"\n",
    "with open(json_path, 'r') as f:\n",
    "    json_data = json.load(f)\n",
    "\n",
    "# Convert to DataFrame\n",
    "df_json = pd.json_normalize(json_data)\n",
    "df_json.head()"
   ]
  },
  {
   "cell_type": "markdown",
   "id": "6bc32b2e",
   "metadata": {},
   "source": [
    "## ✅ Task 2:\n",
    "# - Flatten nested JSON\n",
    "# - Filter values based on criteria"
   ]
  },
  {
   "cell_type": "markdown",
   "id": "1df0a5e2",
   "metadata": {},
   "source": [
    "## 📊 3. Subsetting Techniques"
   ]
  },
  {
   "cell_type": "markdown",
   "id": "df75d941",
   "metadata": {},
   "source": [
    "# 📌 Position-Based\n",
    "# First 5 rows & specific columns\n",
    "df_csv.iloc[:5, [0, 1, 3]]"
   ]
  },
  {
   "cell_type": "markdown",
   "id": "7311f598",
   "metadata": {},
   "source": [
    "# 📌 Label-Based\n",
    "# Filter rows from a specific outlet\n",
    "df_csv.loc[df_csv['Outlet_Identifier'] == 'OUT049']"
   ]
  },
  {
   "cell_type": "markdown",
   "id": "94015782",
   "metadata": {},
   "source": [
    "# 📌 Value-Based\n",
    "# Filter where sales > 5000 and item type is Snacks\n",
    "df_csv[(df_csv['Item_Outlet_Sales'] > 5000) & (df_csv['Item_Type'] == 'Snack Foods')]"
   ]
  },
  {
   "cell_type": "markdown",
   "id": "2e713013",
   "metadata": {},
   "source": [
    "## 🛠️ 4. Modifying Data"
   ]
  },
  {
   "cell_type": "markdown",
   "id": "9eb3e388",
   "metadata": {},
   "source": [
    "# Add a new column: Profit = Sales - MRP\n",
    "if 'Item_MRP' in df_csv.columns:\n",
    "    df_csv['Estimated_Profit'] = df_csv['Item_Outlet_Sales'] - df_csv['Item_MRP']"
   ]
  },
  {
   "cell_type": "markdown",
   "id": "c997e5cc",
   "metadata": {},
   "source": [
    "# Rename columns\n",
    "df_csv.rename(columns={'Item_Weight': 'Weight_kg'}, inplace=True)"
   ]
  },
  {
   "cell_type": "markdown",
   "id": "d73a5a4d",
   "metadata": {},
   "source": [
    "# Drop missing values\n",
    "df_csv.dropna(inplace=True)"
   ]
  },
  {
   "cell_type": "markdown",
   "id": "5224439e",
   "metadata": {},
   "source": [
    "## 📈 5. Additional Use Cases"
   ]
  },
  {
   "cell_type": "markdown",
   "id": "047ff3b5",
   "metadata": {},
   "source": [
    "# 🔍 Find items sold in maximum number of outlets\n",
    "df_csv.groupby('Item_Identifier')['Outlet_Identifier'].nunique().sort_values(ascending=False).head()"
   ]
  },
  {
   "cell_type": "markdown",
   "id": "c75c51cd",
   "metadata": {},
   "source": [
    "# 📉 Outlier Detection for Sales\n",
    "import matplotlib.pyplot as plt\n",
    "import seaborn as sns\n",
    "sns.boxplot(df_csv['Item_Outlet_Sales'])\n",
    "plt.title(\"Outlier Detection: Sales\")\n",
    "plt.show()"
   ]
  },
  {
   "cell_type": "markdown",
   "id": "6935f2ac",
   "metadata": {},
   "source": [
    "## 📌 Final Task: Summary Report"
   ]
  },
  {
   "cell_type": "markdown",
   "id": "5158f18c",
   "metadata": {},
   "source": [
    "# 1. Load all files (CSV, JSON)\n",
    "# 2. Perform at least 3 subsetting operations\n",
    "# 3. Modify dataset (add column, drop NA, rename)\n",
    "# 4. Extract insights (top categories, summary stats)\n",
    "# 5. Visualize at least 1 trend"
   ]
  },
  {
   "cell_type": "markdown",
   "id": "b8ed8729",
   "metadata": {},
   "source": [
    "# ✅ Submit: `.ipynb` file + 1-page summary in `.pdf`"
   ]
  }
 ],
 "metadata": {},
 "nbformat": 4,
 "nbformat_minor": 5
}
