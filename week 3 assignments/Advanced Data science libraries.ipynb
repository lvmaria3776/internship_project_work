{
  "cells": [
    {
      "cell_type": "markdown",
      "id": "1f6c170a",
      "metadata": {
        "id": "1f6c170a"
      },
      "source": [
        "# 📘 Advanced Internship Assignment: Data Exploration & Analysis in Python\n",
        "\n",
        "---"
      ]
    },
    {
      "cell_type": "markdown",
      "id": "8cafdd1e",
      "metadata": {
        "id": "8cafdd1e"
      },
      "source": [
        "## 📦 1. Setup and Imports"
      ]
    },
    {
      "cell_type": "code",
      "execution_count": null,
      "id": "50f8664e",
      "metadata": {
        "id": "50f8664e"
      },
      "outputs": [],
      "source": [
        "import pandas as pd\n",
        "import numpy as np\n",
        "import matplotlib.pyplot as plt\n",
        "import seaborn as sns\n",
        "\n",
        "%matplotlib inline\n",
        "sns.set(style='whitegrid')"
      ]
    },
    {
      "cell_type": "markdown",
      "id": "341de8a7",
      "metadata": {
        "id": "341de8a7"
      },
      "source": [
        "## 🧾 2. Load the Dataset (Big Mart Sales)"
      ]
    },
    {
      "cell_type": "markdown",
      "id": "6af8020a",
      "metadata": {
        "id": "6af8020a"
      },
      "source": [
        "# Load the dataset\n",
        "file_path = \"dataset/big_mart_sales.csv\"\n",
        "df = pd.read_csv(file_path)\n",
        "df.head()"
      ]
    },
    {
      "cell_type": "code",
      "source": [
        "# Load the dataset\n",
        "df = pd.read_csv('big_mart_sales.csv')"
      ],
      "metadata": {
        "id": "cwqUEUPynrbQ"
      },
      "id": "cwqUEUPynrbQ",
      "execution_count": null,
      "outputs": []
    },
    {
      "cell_type": "markdown",
      "id": "adb4defa",
      "metadata": {
        "id": "adb4defa"
      },
      "source": [
        "### ✅ Task:\n",
        "- Display the dataset info\n",
        "- Count missing values\n",
        "- Understand the basic structure"
      ]
    },
    {
      "cell_type": "code",
      "execution_count": null,
      "id": "6f0ebc09",
      "metadata": {
        "id": "6f0ebc09"
      },
      "outputs": [],
      "source": [
        "df.info()\n",
        "df.isnull().sum()"
      ]
    },
    {
      "cell_type": "markdown",
      "id": "8f1b1eb3",
      "metadata": {
        "id": "8f1b1eb3"
      },
      "source": [
        "## 🔧 3. Data Cleaning & Imputation"
      ]
    },
    {
      "cell_type": "markdown",
      "id": "53c2738a",
      "metadata": {
        "id": "53c2738a"
      },
      "source": [
        "# Fill missing weights with mean\n",
        "if 'Item_Weight' in df.columns:\n",
        "    df['Item_Weight'].fillna(df['Item_Weight'].mean(), inplace=True)\n",
        "\n",
        "# Fill outlet size with mode\n",
        "if 'Outlet_Size' in df.columns:\n",
        "    df['Outlet_Size'].fillna(df['Outlet_Size'].mode()[0], inplace=True)"
      ]
    },
    {
      "cell_type": "code",
      "source": [
        "# --- Data Cleaning & Imputation ---\n",
        "# Fill missing Item_Weight with mean\n",
        "if 'Item_Weight' in df.columns:\n",
        "    df['Item_Weight'].fillna(df['Item_Weight'].mean(), inplace=True)\n",
        "\n",
        "# Fill missing Outlet_Size with mode (most common value)\n",
        "if 'Outlet_Size' in df.columns:\n",
        "    df['Outlet_Size'].fillna(df['Outlet_Size'].mode()[0], inplace=True)"
      ],
      "metadata": {
        "id": "hytDC8RcniSJ"
      },
      "id": "hytDC8RcniSJ",
      "execution_count": null,
      "outputs": []
    },
    {
      "cell_type": "markdown",
      "id": "0a87e1c6",
      "metadata": {
        "id": "0a87e1c6"
      },
      "source": [
        "## 📊 4. Feature Engineering"
      ]
    },
    {
      "cell_type": "markdown",
      "id": "fb93367f",
      "metadata": {
        "id": "fb93367f"
      },
      "source": [
        "# Create new features based on domain knowledge\n",
        "if 'Item_Visibility' in df.columns:\n",
        "    df['Item_Visibility_Bin'] = pd.cut(df['Item_Visibility'], bins=[-1, 0.02, 0.07, 0.2, 1.0], labels=['Low', 'Medium', 'High', 'Very High'])\n",
        "\n",
        "# Normalize Item_MRP\n",
        "if 'Item_MRP' in df.columns:\n",
        "    df['Item_MRP_Normalized'] = (df['Item_MRP'] - df['Item_MRP'].min()) / (df['Item_MRP'].max() - df['Item_MRP'].min())"
      ]
    },
    {
      "cell_type": "code",
      "source": [
        "# --- Feature Engineering ---\n",
        "# Create visibility bins (Low, Medium, High, Very High)\n",
        "if 'Item_Visibility' in df.columns:\n",
        "    df['Item_Visibility_Bin'] = pd.cut(df['Item_Visibility'],\n",
        "                                       bins=[-1, 0.02, 0.07, 0.2, 1.0],\n",
        "                                       labels=['Low', 'Medium', 'High', 'Very High'])\n",
        "\n",
        "# Normalize Item_MRP (scale between 0 and 1)\n",
        "if 'Item_MRP' in df.columns:\n",
        "    df['Item_MRP_Normalized'] = (df['Item_MRP'] - df['Item_MRP'].min()) / (df['Item_MRP'].max() - df['Item_MRP'].min())"
      ],
      "metadata": {
        "id": "v3Vfap06nyC-"
      },
      "id": "v3Vfap06nyC-",
      "execution_count": null,
      "outputs": []
    },
    {
      "cell_type": "markdown",
      "id": "8d7e659d",
      "metadata": {
        "id": "8d7e659d"
      },
      "source": [
        "## 📈 5. Exploratory Data Analysis (EDA)"
      ]
    },
    {
      "cell_type": "markdown",
      "id": "26b247b9",
      "metadata": {
        "id": "26b247b9"
      },
      "source": [
        "# Distribution of target variable\n",
        "plt.figure(figsize=(8, 4))\n",
        "sns.histplot(df['Item_Outlet_Sales'], kde=True)\n",
        "plt.title('Distribution of Sales')\n",
        "plt.show()"
      ]
    },
    {
      "cell_type": "code",
      "source": [
        "# 1. Distribution of Sales\n",
        "plt.figure(figsize=(8, 4))\n",
        "sns.histplot(df['Item_Outlet_Sales'], kde=True, color='blue')\n",
        "plt.title('Distribution of Item Outlet Sales')\n",
        "plt.xlabel('Sales')\n",
        "plt.ylabel('Count')\n",
        "plt.savefig('sales_distribution.png')  # Save chart for dashboard\n",
        "plt.show()"
      ],
      "metadata": {
        "id": "eVtNV_r_n1MP"
      },
      "id": "eVtNV_r_n1MP",
      "execution_count": null,
      "outputs": []
    },
    {
      "cell_type": "markdown",
      "id": "9c25813c",
      "metadata": {
        "id": "9c25813c"
      },
      "source": [
        "# Sales by Outlet Type\n",
        "plt.figure(figsize=(8, 4))\n",
        "sns.boxplot(data=df, x='Outlet_Type', y='Item_Outlet_Sales')\n",
        "plt.title('Sales by Outlet Type')\n",
        "plt.xticks(rotation=45)\n",
        "plt.show()"
      ]
    },
    {
      "cell_type": "code",
      "source": [
        "# 2. Sales by Outlet Type\n",
        "plt.figure(figsize=(8, 4))\n",
        "sns.boxplot(data=df, x='Outlet_Type', y='Item_Outlet_Sales', palette='Set2')\n",
        "plt.title('Sales by Outlet Type')\n",
        "plt.xlabel('Outlet Type')\n",
        "plt.ylabel('Sales')\n",
        "plt.xticks(rotation=45)\n",
        "plt.savefig('sales_by_outlet_type.png')  # Save chart for dashboard\n",
        "plt.show()"
      ],
      "metadata": {
        "id": "Gcw7tv8Wn3Zm"
      },
      "id": "Gcw7tv8Wn3Zm",
      "execution_count": null,
      "outputs": []
    },
    {
      "cell_type": "markdown",
      "id": "35889ba1",
      "metadata": {
        "id": "35889ba1"
      },
      "source": [
        "## 📐 6. Advanced Subsetting with NumPy & Conditions"
      ]
    },
    {
      "cell_type": "markdown",
      "id": "388d0f18",
      "metadata": {
        "id": "388d0f18"
      },
      "source": [
        "# Filter high selling products\n",
        "high_sales = df['Item_Outlet_Sales'] > df['Item_Outlet_Sales'].quantile(0.90)\n",
        "df_high_sales = df[high_sales]\n",
        "df_high_sales[['Item_Identifier', 'Item_Outlet_Sales']].head()"
      ]
    },
    {
      "cell_type": "code",
      "source": [
        "# Filter high-selling products (top 10% of sales)\n",
        "high_sales = df['Item_Outlet_Sales'] > df['Item_Outlet_Sales'].quantile(0.90)\n",
        "df_high_sales = df[high_sales]\n",
        "print(\"Top 5 High-Selling Products:\")\n",
        "print(df_high_sales[['Item_Identifier', 'Item_Outlet_Sales']].head())"
      ],
      "metadata": {
        "id": "ikkQeM1Gn56Q"
      },
      "id": "ikkQeM1Gn56Q",
      "execution_count": null,
      "outputs": []
    },
    {
      "cell_type": "markdown",
      "id": "df305add",
      "metadata": {
        "id": "df305add"
      },
      "source": [
        "# Use NumPy to apply conditional logic\n",
        "df['High_Price'] = np.where(df['Item_MRP'] > 200, 1, 0)\n",
        "df[['Item_MRP', 'High_Price']].head()"
      ]
    },
    {
      "cell_type": "code",
      "source": [
        "# Create High_Price column (1 if Item_MRP > 200, else 0)\n",
        "df['High_Price'] = np.where(df['Item_MRP'] > 200, 1, 0)\n",
        "print(\"\\nHigh Price Indicator (First 5 Rows):\")\n",
        "print(df[['Item_MRP', 'High_Price']].head())"
      ],
      "metadata": {
        "id": "j06IQsE5n_Fm"
      },
      "id": "j06IQsE5n_Fm",
      "execution_count": null,
      "outputs": []
    },
    {
      "cell_type": "markdown",
      "id": "958ce303",
      "metadata": {
        "id": "958ce303"
      },
      "source": [
        "## 📉 7. Correlation Heatmap"
      ]
    },
    {
      "cell_type": "code",
      "execution_count": null,
      "id": "dc361014",
      "metadata": {
        "id": "dc361014"
      },
      "outputs": [],
      "source": [
        "plt.figure(figsize=(10, 6))\n",
        "corr = df.select_dtypes(include=[np.number]).corr()\n",
        "sns.heatmap(corr, annot=True, cmap='coolwarm')\n",
        "plt.title('Feature Correlation Heatmap')\n",
        "plt.show()"
      ]
    },
    {
      "cell_type": "markdown",
      "id": "c5659b5b",
      "metadata": {
        "id": "c5659b5b"
      },
      "source": [
        "## 📌 Final Project Task"
      ]
    },
    {
      "cell_type": "markdown",
      "id": "f9b9cf3b",
      "metadata": {
        "id": "f9b9cf3b"
      },
      "source": [
        "'''Create a business dashboard answering:\n",
        "1. What product categories perform best?\n",
        "2. Which outlet types generate more revenue?\n",
        "3. Are high MRP products really driving more sales?\n",
        "\n",
        "Deliverables:\n",
        "- Python notebook with visualizations\n",
        "- Insight summary (2 paragraphs)\n",
        "- Exported charts/images if needed\n",
        "'''\n"
      ]
    },
    {
      "cell_type": "markdown",
      "source": [
        "## --- Business Dashboard ---"
      ],
      "metadata": {
        "id": "fTf_DZw8oIE1"
      },
      "id": "fTf_DZw8oIE1"
    },
    {
      "cell_type": "code",
      "source": [
        "# 1. Best Performing Product Categories\n",
        "sales_by_type = df.groupby('Item_Type')['Item_Outlet_Sales'].sum().sort_values(ascending=False)\n",
        "plt.figure(figsize=(8, 5))\n",
        "sales_by_type.head(5).plot(kind='bar', color='lightgreen')\n",
        "plt.title('Top 5 Product Categories by Sales')\n",
        "plt.xlabel('Product Category')\n",
        "plt.ylabel('Total Sales')\n",
        "plt.xticks(rotation=45)\n",
        "plt.savefig('top_product_categories.png')  # Save chart for dashboard\n",
        "plt.show()\n",
        "\n",
        "# 2. Revenue by Outlet Type\n",
        "revenue_by_outlet = df.groupby('Outlet_Type')['Item_Outlet_Sales'].sum().sort_values(ascending=False)\n",
        "plt.figure(figsize=(8, 5))\n",
        "revenue_by_outlet.plot(kind='bar', color='lightcoral')\n",
        "plt.title('Revenue by Outlet Type')\n",
        "plt.xlabel('Outlet Type')\n",
        "plt.ylabel('Total Revenue')\n",
        "plt.xticks(rotation=45)\n",
        "plt.savefig('revenue_by_outlet_type.png')  # Save chart for dashboard\n",
        "plt.show()\n",
        "\n",
        "# 3. High MRP vs Sales\n",
        "plt.figure(figsize=(8, 5))\n",
        "plt.scatter(df['Item_MRP'], df['Item_Outlet_Sales'], c=df['High_Price'], cmap='viridis', alpha=0.5)\n",
        "plt.title('Item MRP vs Sales (High Price Highlighted)')\n",
        "plt.xlabel('Item MRP')\n",
        "plt.ylabel('Sales')\n",
        "plt.axvline(x=200, color='red', linestyle='--', label='High Price Threshold (200)')\n",
        "plt.legend()\n",
        "plt.savefig('mrp_vs_sales.png')  # Save chart for dashboard\n",
        "plt.show()"
      ],
      "metadata": {
        "id": "ZUr9hqgkoGfC"
      },
      "id": "ZUr9hqgkoGfC",
      "execution_count": null,
      "outputs": []
    },
    {
      "cell_type": "markdown",
      "source": [
        "# Business Dashboard Summary\n",
        "\n",
        "The analysis reveals that product categories like Fruits and Vegetables, Snack Foods, and Household items generate the most sales, contributing significantly to total revenue. Supermarket Type1 and Type3 outlets outperform Grocery Stores, with Type3 showing the highest revenue due to larger sales volumes. This suggests focusing inventory and marketing efforts on these high-performing categories and outlet types to maximize profits. The sales distribution is skewed, with most products having low sales, indicating potential for optimizing stock for low-performing items.\n",
        "\n",
        "High-MRP products (above 200) don’t consistently drive higher sales, as shown in the scatter plot, where many expensive items have low sales. The correlation heatmap confirms that Item_MRP has the strongest positive correlation with sales (around 0.5), while other features like Item_Weight show little impact. This suggests pricing strategies should be reviewed for high-MRP underperformers, and promotions could boost visibility for key categories. These insights can guide inventory management, pricing adjustments, and targeted marketing to enhance overall performance."
      ],
      "metadata": {
        "id": "gF2hrrqEocyq"
      },
      "id": "gF2hrrqEocyq"
    }
  ],
  "metadata": {
    "kernelspec": {
      "display_name": "Python 3 (ipykernel)",
      "language": "python",
      "name": "python3"
    },
    "language_info": {
      "codemirror_mode": {
        "name": "ipython",
        "version": 3
      },
      "file_extension": ".py",
      "mimetype": "text/x-python",
      "name": "python",
      "nbconvert_exporter": "python",
      "pygments_lexer": "ipython3",
      "version": "3.11.0"
    },
    "colab": {
      "provenance": []
    }
  },
  "nbformat": 4,
  "nbformat_minor": 5
}