{
 "cells": [
  {
   "cell_type": "code",
   "execution_count": 1,
   "id": "54d8bffc-ea6d-4fc7-b6f0-35c3078e1138",
   "metadata": {},
   "outputs": [
    {
     "name": "stdout",
     "output_type": "stream",
     "text": [
      "TO DO LIST\n"
     ]
    }
   ],
   "source": [
    "#basic file reading\n",
    "with open(\"sample.txt\", \"r\") as file:\n",
    "    content = file.read()\n",
    "    print(content)"
   ]
  },
  {
   "cell_type": "code",
   "execution_count": 2,
   "id": "c95649e5-6666-4525-b467-e13f9139642e",
   "metadata": {},
   "outputs": [
    {
     "name": "stdout",
     "output_type": "stream",
     "text": [
      "TO DO LIST\n"
     ]
    }
   ],
   "source": [
    "#reading line by line\n",
    "with open(\"sample.txt\", \"r\") as file:\n",
    "    line = file.readline()\n",
    "    while line:\n",
    "        print(line.strip())\n",
    "        line = file.readline()"
   ]
  },
  {
   "cell_type": "code",
   "execution_count": 3,
   "id": "415313cf-4fe8-4039-ae06-22c6c39959f8",
   "metadata": {},
   "outputs": [
    {
     "name": "stdout",
     "output_type": "stream",
     "text": [
      "Total lines: 1\n",
      "['TO DO LIST']\n"
     ]
    }
   ],
   "source": [
    "#Read All Lines into a List\n",
    "with open(\"sample.txt\", \"r\") as file:\n",
    "    lines = file.readlines()\n",
    "    print(\"Total lines:\", len(lines))\n",
    "    print(lines)"
   ]
  },
  {
   "cell_type": "code",
   "execution_count": 4,
   "id": "5b08d5f9-c35d-47d6-90e4-43e10722f290",
   "metadata": {},
   "outputs": [
    {
     "name": "stdout",
     "output_type": "stream",
     "text": [
      "Line 1: TO DO LIST\n"
     ]
    }
   ],
   "source": [
    "#iterate over file\n",
    "with open(\"sample.txt\", \"r\") as file:\n",
    "    for index, line in enumerate(file, 1):\n",
    "        print(f\"Line {index}: {line.strip()}\")"
   ]
  },
  {
   "cell_type": "code",
   "execution_count": null,
   "id": "9b1e25ed-3d69-403d-b357-6df666b1d5c5",
   "metadata": {},
   "outputs": [],
   "source": [
    "#work"
   ]
  }
 ],
 "metadata": {
  "kernelspec": {
   "display_name": "Python 3 (ipykernel)",
   "language": "python",
   "name": "python3"
  },
  "language_info": {
   "codemirror_mode": {
    "name": "ipython",
    "version": 3
   },
   "file_extension": ".py",
   "mimetype": "text/x-python",
   "name": "python",
   "nbconvert_exporter": "python",
   "pygments_lexer": "ipython3",
   "version": "3.12.7"
  }
 },
 "nbformat": 4,
 "nbformat_minor": 5
}
