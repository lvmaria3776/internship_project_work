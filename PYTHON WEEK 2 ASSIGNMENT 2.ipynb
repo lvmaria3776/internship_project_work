{
 "cells": [
  {
   "cell_type": "markdown",
   "id": "c9b9c84f-ddc9-4609-9f13-c07431874114",
   "metadata": {},
   "source": [
    "# Assignment 2 week 2"
   ]
  },
  {
   "cell_type": "code",
   "execution_count": 1,
   "id": "bdcfec23-9a05-4eee-9be0-3f9ae4bc61ce",
   "metadata": {},
   "outputs": [
    {
     "name": "stdin",
     "output_type": "stream",
     "text": [
      "Enter first number:  5\n",
      "Enter second number:  6\n"
     ]
    },
    {
     "name": "stdout",
     "output_type": "stream",
     "text": [
      "Addition: 11.0\n",
      "Subtraction: -1.0\n",
      "Multiplication: 30.0\n",
      "Division: 0.8333333333333334\n"
     ]
    }
   ],
   "source": [
    "#Q1Perform basic arithmetic operations on two numbers.\n",
    "num1 = float(input(\"Enter first number: \"))\n",
    "num2 = float(input(\"Enter second number: \"))\n",
    "print(\"Addition:\", num1 + num2)\n",
    "print(\"Subtraction:\", num1 - num2)\n",
    "print(\"Multiplication:\", num1 * num2)\n",
    "print(\"Division:\", num1 / num2 if num2 != 0 else \"Cannot divide by zero\")"
   ]
  },
  {
   "cell_type": "code",
   "execution_count": 2,
   "id": "9517056b-95b5-4db6-9d3c-eae1719d0369",
   "metadata": {},
   "outputs": [
    {
     "name": "stdin",
     "output_type": "stream",
     "text": [
      "Enter a number:  7\n"
     ]
    },
    {
     "name": "stdout",
     "output_type": "stream",
     "text": [
      "Odd\n"
     ]
    }
   ],
   "source": [
    "#Q2Check whether a number is even or odd.\n",
    "num = int(input(\"Enter a number: \"))\n",
    "if num % 2 == 0:\n",
    "    print(\"Even\")\n",
    "else:\n",
    "    print(\"Odd\")"
   ]
  },
  {
   "cell_type": "code",
   "execution_count": 3,
   "id": "79b0aaf8-4a2f-4486-93a4-6380f0816341",
   "metadata": {},
   "outputs": [
    {
     "name": "stdin",
     "output_type": "stream",
     "text": [
      "Enter your age:  17\n"
     ]
    },
    {
     "name": "stdout",
     "output_type": "stream",
     "text": [
      "Not eligible to vote\n"
     ]
    }
   ],
   "source": [
    "#Q3Determine voting eligibility based on age.\n",
    "age = int(input(\"Enter your age: \"))\n",
    "if age >= 18:\n",
    "    print(\"Eligible to vote\")\n",
    "else:\n",
    "    print(\"Not eligible to vote\")"
   ]
  },
  {
   "cell_type": "code",
   "execution_count": 4,
   "id": "0fc0e96c-6ba6-4149-9a49-ffb528f5ccf0",
   "metadata": {},
   "outputs": [
    {
     "name": "stdout",
     "output_type": "stream",
     "text": [
      "After swap using third variable: 10 5\n",
      "After swap without third variable: 5 10\n"
     ]
    }
   ],
   "source": [
    "#Q4Swap two numbers using and without using a third variable.\n",
    "a = 5\n",
    "b = 10\n",
    "temp = a\n",
    "a = b\n",
    "b = temp\n",
    "print(\"After swap using third variable:\", a, b)\n",
    "a, b = b, a\n",
    "print(\"After swap without third variable:\", a, b)\n"
   ]
  },
  {
   "cell_type": "markdown",
   "id": "028bd16a-9469-4b89-bafc-9a77e5b3dcd4",
   "metadata": {},
   "source": [
    "# Level 2: Loops and Functions"
   ]
  },
  {
   "cell_type": "code",
   "execution_count": 5,
   "id": "69a8e8fc-d1f1-4377-b04d-e9c1c7f18d00",
   "metadata": {},
   "outputs": [
    {
     "name": "stdin",
     "output_type": "stream",
     "text": [
      "Enter a number:  6\n"
     ]
    },
    {
     "name": "stdout",
     "output_type": "stream",
     "text": [
      "6 x 1 = 6\n",
      "6 x 2 = 12\n",
      "6 x 3 = 18\n",
      "6 x 4 = 24\n",
      "6 x 5 = 30\n",
      "6 x 6 = 36\n",
      "6 x 7 = 42\n",
      "6 x 8 = 48\n",
      "6 x 9 = 54\n",
      "6 x 10 = 60\n"
     ]
    }
   ],
   "source": [
    "#Q1 Print the multiplication table of a number up to 10.\n",
    "num = int(input(\"Enter a number: \"))\n",
    "for i in range(1, 11):\n",
    "    print(f\"{num} x {i} = {num * i}\")"
   ]
  },
  {
   "cell_type": "code",
   "execution_count": 6,
   "id": "5b91764a-66db-4e38-8dce-b43468092feb",
   "metadata": {},
   "outputs": [
    {
     "name": "stdin",
     "output_type": "stream",
     "text": [
      "Enter a number:  17\n"
     ]
    },
    {
     "name": "stdout",
     "output_type": "stream",
     "text": [
      "Prime\n"
     ]
    }
   ],
   "source": [
    "#Q2Check if a given number is prime.\n",
    "num = int(input(\"Enter a number: \"))\n",
    "is_prime = True\n",
    "if num <= 1:\n",
    "    is_prime = False\n",
    "else:\n",
    "    for i in range(2, int(num**0.5) + 1):\n",
    "        if num % i == 0:\n",
    "            is_prime = False\n",
    "            break\n",
    "print(\"Prime\" if is_prime else \"Not Prime\")\n"
   ]
  },
  {
   "cell_type": "code",
   "execution_count": 7,
   "id": "a7b47e52-38ac-4067-a602-315b270c5ad7",
   "metadata": {},
   "outputs": [
    {
     "name": "stdin",
     "output_type": "stream",
     "text": [
      "Enter a number:  4\n"
     ]
    },
    {
     "name": "stdout",
     "output_type": "stream",
     "text": [
      "Factorial: 24\n"
     ]
    }
   ],
   "source": [
    "#Q3Calculate factorial of a number using loop\n",
    "num = int(input(\"Enter a number: \"))\n",
    "factorial = 1\n",
    "for i in range(1, num + 1):\n",
    "    factorial *= i\n",
    "print(\"Factorial:\", factorial)"
   ]
  },
  {
   "cell_type": "code",
   "execution_count": 8,
   "id": "3e1a2f1b-b11a-40c8-ad76-304b4d763fcc",
   "metadata": {},
   "outputs": [
    {
     "name": "stdin",
     "output_type": "stream",
     "text": [
      "Enter number of terms:  5\n"
     ]
    },
    {
     "name": "stdout",
     "output_type": "stream",
     "text": [
      "0 1 1 2 3 "
     ]
    }
   ],
   "source": [
    "#Q4 Generate Fibonacci series up to n terms.\n",
    "n = int(input(\"Enter number of terms: \"))\n",
    "a, b = 0, 1\n",
    "for _ in range(n):\n",
    "    print(a, end=\" \")\n",
    "    a, b = b, a + b"
   ]
  },
  {
   "cell_type": "markdown",
   "id": "4d617a5d-82ba-4f20-a5f8-a0f31dfdbbf5",
   "metadata": {},
   "source": [
    "# Level 3: Data Structures and Strings"
   ]
  },
  {
   "cell_type": "code",
   "execution_count": 10,
   "id": "9f8c1779-4b35-4a29-bc09-b2a8874c8a28",
   "metadata": {},
   "outputs": [
    {
     "name": "stdin",
     "output_type": "stream",
     "text": [
      "Enter a string:  66\n"
     ]
    },
    {
     "name": "stdout",
     "output_type": "stream",
     "text": [
      "Palindrome\n"
     ]
    }
   ],
   "source": [
    "#Q1Check if a string is a palindrome.\n",
    "text = input(\"Enter a string: \").lower()\n",
    "if text == text[::-1]:\n",
    "    print(\"Palindrome\")\n",
    "else:\n",
    "    print(\"Not a palindrome\")"
   ]
  },
  {
   "cell_type": "code",
   "execution_count": 12,
   "id": "91e48f24-7b25-425c-b99a-fb91f4d1bda0",
   "metadata": {},
   "outputs": [
    {
     "name": "stdin",
     "output_type": "stream",
     "text": [
      "Enter a sentence:  LOVE ONE ANOTHER\n"
     ]
    },
    {
     "name": "stdout",
     "output_type": "stream",
     "text": [
      "{'love': 1, 'one': 1, 'another': 1}\n"
     ]
    }
   ],
   "source": [
    "#Q2Count frequency of each word in a sentence.\n",
    "sentence = input(\"Enter a sentence: \").lower()\n",
    "words = sentence.split()\n",
    "word_count = {}\n",
    "for word in words:\n",
    "    word_count[word] = word_count.get(word, 0) + 1\n",
    "\n",
    "print(word_count)\n"
   ]
  },
  {
   "cell_type": "markdown",
   "id": "843ee5ca-a471-4b5e-846d-451daaa531cf",
   "metadata": {},
   "source": [
    "# Level 4: File Handling & Exceptions"
   ]
  },
  {
   "cell_type": "code",
   "execution_count": 13,
   "id": "4ab40fd7-b8e6-4a33-8fc4-9cc6ef1efc56",
   "metadata": {},
   "outputs": [
    {
     "name": "stdin",
     "output_type": "stream",
     "text": [
      "Enter some text to write to the file:  TO DO LIST\n"
     ]
    },
    {
     "name": "stdout",
     "output_type": "stream",
     "text": [
      "File content: TO DO LIST\n"
     ]
    }
   ],
   "source": [
    "#Q1Write and read text from a file.\n",
    "filename = \"sample.txt\"\n",
    "text = input(\"Enter some text to write to the file: \")\n",
    "with open(filename, \"w\") as f:\n",
    "    f.write(text)\n",
    "with open(filename, \"r\") as f:\n",
    "    content = f.read()\n",
    "    print(\"File content:\", content)"
   ]
  },
  {
   "cell_type": "code",
   "execution_count": 14,
   "id": "efc8484b-9a79-40dd-bbac-5eede28e731f",
   "metadata": {},
   "outputs": [
    {
     "name": "stdin",
     "output_type": "stream",
     "text": [
      "Enter numerator:  4\n",
      "Enter denominator:  2\n"
     ]
    },
    {
     "name": "stdout",
     "output_type": "stream",
     "text": [
      "Result: 2.0\n"
     ]
    }
   ],
   "source": [
    "#Q2Handle division errors using try-except.\n",
    "try:\n",
    "    a = float(input(\"Enter numerator: \"))\n",
    "    b = float(input(\"Enter denominator: \"))\n",
    "    result = a / b\n",
    "    print(\"Result:\", result)\n",
    "except ZeroDivisionError:\n",
    "    print(\"Error: Cannot divide by zero.\")\n",
    "except ValueError:\n",
    "    print(\"Invalid input. Please enter numbers.\")\n"
   ]
  },
  {
   "cell_type": "code",
   "execution_count": null,
   "id": "0e53e481-df90-4ab3-9aa0-17f167a05d7e",
   "metadata": {},
   "outputs": [],
   "source": []
  }
 ],
 "metadata": {
  "kernelspec": {
   "display_name": "Python 3 (ipykernel)",
   "language": "python",
   "name": "python3"
  },
  "language_info": {
   "codemirror_mode": {
    "name": "ipython",
    "version": 3
   },
   "file_extension": ".py",
   "mimetype": "text/x-python",
   "name": "python",
   "nbconvert_exporter": "python",
   "pygments_lexer": "ipython3",
   "version": "3.12.7"
  }
 },
 "nbformat": 4,
 "nbformat_minor": 5
}
