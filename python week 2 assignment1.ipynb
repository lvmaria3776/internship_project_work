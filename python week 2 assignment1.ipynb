{
 "cells": [
  {
   "cell_type": "code",
   "execution_count": 3,
   "id": "2515a17e-0f49-49c9-87ff-812a452ac8a7",
   "metadata": {},
   "outputs": [
    {
     "name": "stdout",
     "output_type": "stream",
     "text": [
      "Twinkle twinkle little star\n",
      "\tHow i wonder what you are!\n",
      "\t\tUp above the world so high,\n",
      "\t\tLike a diamond in the sky.\n",
      "Twinkle, twinkle, little star,\n",
      "\tHow I wonder what you are\n"
     ]
    }
   ],
   "source": [
    "#q1Write a Python program to print the following poem in a specific format.\n",
    "print(\"Twinkle twinkle little star\")\n",
    "print(\"\\tHow i wonder what you are!\")\n",
    "print(\"\\t\\tUp above the world so high,\")\n",
    "print(\"\\t\\tLike a diamond in the sky.\")\n",
    "print(\"Twinkle, twinkle, little star,\")\n",
    "print(\"\\tHow I wonder what you are\")"
   ]
  },
  {
   "cell_type": "code",
   "execution_count": 4,
   "id": "0aca3dcc-bb06-485c-aecf-2b11b8bdb488",
   "metadata": {},
   "outputs": [
    {
     "name": "stdout",
     "output_type": "stream",
     "text": [
      "python version\n",
      "3.12.7 | packaged by Anaconda, Inc. | (main, Oct  4 2024, 13:17:27) [MSC v.1929 64 bit (AMD64)]\n",
      "version info.\n",
      "sys.version_info(major=3, minor=12, micro=7, releaselevel='final', serial=0)\n"
     ]
    }
   ],
   "source": [
    "#q2Write a Python program to find out what version of Python you are using.\n",
    "import sys\n",
    "print(\"python version\")\n",
    "print(sys.version)\n",
    "print(\"version info.\")\n",
    "print(sys.version_info)\n"
   ]
  },
  {
   "cell_type": "code",
   "execution_count": 6,
   "id": "b17e42a0-b752-4244-9849-6d22eafd0b6b",
   "metadata": {},
   "outputs": [
    {
     "name": "stdout",
     "output_type": "stream",
     "text": [
      "current date and time:\n",
      "2025-05-14 11:17:52\n"
     ]
    }
   ],
   "source": [
    "#q3 Write a Python program to display the current date and time.\n",
    "import datetime\n",
    "now=datetime.datetime.now()\n",
    "print(\"current date and time:\")\n",
    "print(now.strftime(\"%Y-%m-%d %H:%M:%S\"))"
   ]
  },
  {
   "cell_type": "code",
   "execution_count": 9,
   "id": "5efbfda8-8694-4e5b-bc1a-06052865eaaf",
   "metadata": {},
   "outputs": [
    {
     "name": "stdin",
     "output_type": "stream",
     "text": [
      "input the radius of the circle: 5\n"
     ]
    },
    {
     "name": "stdout",
     "output_type": "stream",
     "text": [
      "area of the circle with radius 5.0 is: 78.53981633974483\n"
     ]
    }
   ],
   "source": [
    "#Q4 Write a Python program that calculates the area of a circle based on the radius entered by the user.\n",
    "from math import pi\n",
    "r=float(input(\"input the radius of the circle:\"))\n",
    "area = pi*r**2\n",
    "print(\"area of the circle with radius\",r,\"is:\", area)"
   ]
  },
  {
   "cell_type": "code",
   "execution_count": 11,
   "id": "90a62e07-ef5c-44d2-a232-2cd8d138b26a",
   "metadata": {},
   "outputs": [
    {
     "name": "stdin",
     "output_type": "stream",
     "text": [
      "Enter your first name: Maria\n",
      "Enter your second name: Paul\n",
      "Enter your last name: Chetty\n"
     ]
    },
    {
     "name": "stdout",
     "output_type": "stream",
     "text": [
      "Reversed.name: Chetty Paul Maria\n"
     ]
    }
   ],
   "source": [
    "#Q5Write a Python program that accepts the user's first and last name and prints them in reverse order.\n",
    "first_name=input(\"Enter your first name:\")\n",
    "second_name=input(\"Enter your second name:\")\n",
    "last_name=input(\"Enter your last name:\")\n",
    "print(\"Reversed.name:\",last_name,second_name,first_name)"
   ]
  },
  {
   "cell_type": "code",
   "execution_count": 17,
   "id": "68c9aa31-b29a-4c65-adfc-08eb8fe333e8",
   "metadata": {},
   "outputs": [
    {
     "name": "stdin",
     "output_type": "stream",
     "text": [
      "Input some comma seperated numbers: 1,2,3,45,6,7,8\n"
     ]
    },
    {
     "name": "stdout",
     "output_type": "stream",
     "text": [
      "list: ['1', '2', '3', '45', '6', '7', '8']\n",
      "tuple: ('1', '2', '3', '45', '6', '7', '8')\n"
     ]
    }
   ],
   "source": [
    "#q6Write a Python program that accepts a sequence of comma-separated numbers and generates a list and a tuple.\n",
    "values=input(\"Input some comma seperated numbers:\")\n",
    "list_values=values.split(\",\")\n",
    "tuple_values=tuple(list_values)\n",
    "print('list:',list_values)\n",
    "print('tuple:',tuple_values)"
   ]
  },
  {
   "cell_type": "code",
   "execution_count": 19,
   "id": "4e7b0cda-9819-4a04-8fb6-17be6ba584dc",
   "metadata": {},
   "outputs": [
    {
     "name": "stdin",
     "output_type": "stream",
     "text": [
      "Input the file name: airam.file\n"
     ]
    },
    {
     "name": "stdout",
     "output_type": "stream",
     "text": [
      "the extension of the file is: file\n"
     ]
    }
   ],
   "source": [
    "#q7Write a Python program that accepts a filename and prints the extension of the file.\n",
    "filename=input(\"Input the file name:\")\n",
    "f_extens=filename.split(\".\")[-1]\n",
    "print(\"the extension of the file is:\",f_extens)"
   ]
  },
  {
   "cell_type": "code",
   "execution_count": 21,
   "id": "62d11447-4ce9-4590-87c1-c0becfae5e41",
   "metadata": {},
   "outputs": [
    {
     "name": "stdout",
     "output_type": "stream",
     "text": [
      "First_colour: blue\n",
      "Final_colour: black\n"
     ]
    }
   ],
   "source": [
    "#q8Write a Python program to display the first and last colors from the list.\n",
    "color_list=[\"blue\",\"yellow\",\"green\",\"red\",\"white\",\"black\"]\n",
    "print(\"First_colour:\",color_list[0])\n",
    "print(\"Final_colour:\",color_list[-1])"
   ]
  },
  {
   "cell_type": "code",
   "execution_count": 26,
   "id": "6124d35a-fffe-4a3a-8b26-dcb0f1e4dcca",
   "metadata": {},
   "outputs": [
    {
     "name": "stdout",
     "output_type": "stream",
     "text": [
      "The examination will start from: 25 / 12 / 2025\n"
     ]
    }
   ],
   "source": [
    "#q9Write a Python program to display the examination schedule.\n",
    "exam_st_date = (25, 12, 2025)\n",
    "print(\"The examination will start from: %i / %i / %i\" % exam_st_date)\n"
   ]
  },
  {
   "cell_type": "code",
   "execution_count": 27,
   "id": "8abb05f8-3fdb-4318-9e3f-af21364054f8",
   "metadata": {},
   "outputs": [
    {
     "name": "stdin",
     "output_type": "stream",
     "text": [
      "Enter a number:  4\n"
     ]
    },
    {
     "name": "stdout",
     "output_type": "stream",
     "text": [
      "Result: 492\n"
     ]
    }
   ],
   "source": [
    "#q10 Write a Python program to calculate the value of n+nn+nnn for a given n.\n",
    "n = int(input(\"Enter a number: \"))\n",
    "nn = int(str(n) * 2)\n",
    "nnn = int(str(n) * 3)\n",
    "print(\"Result:\", n + nn + nnn)"
   ]
  },
  {
   "cell_type": "code",
   "execution_count": 29,
   "id": "6075608d-025b-4b20-9c41-c9a773cf4143",
   "metadata": {},
   "outputs": [
    {
     "name": "stdout",
     "output_type": "stream",
     "text": [
      "Return the absolute value of the argument.\n",
      "Prints the values to a stream, or to sys.stdout by default.\n",
      "\n",
      "  sep\n",
      "    string inserted between values, default a space.\n",
      "  end\n",
      "    string appended after the last value, default a newline.\n",
      "  file\n",
      "    a file-like object (stream); defaults to the current sys.stdout.\n",
      "  flush\n",
      "    whether to forcibly flush the stream.\n"
     ]
    }
   ],
   "source": [
    "#Q11Write a Python program to print documentation of built-in function.\n",
    "print(abs.__doc__)\n",
    "print(print.__doc__)"
   ]
  },
  {
   "cell_type": "code",
   "execution_count": 30,
   "id": "59dd984c-9e8a-4862-b46b-82514bd60be3",
   "metadata": {},
   "outputs": [
    {
     "name": "stdin",
     "output_type": "stream",
     "text": [
      "input the year: 23\n",
      "Input the month:  2\n"
     ]
    },
    {
     "name": "stdout",
     "output_type": "stream",
     "text": [
      "    February 23\n",
      "Mo Tu We Th Fr Sa Su\n",
      "       1  2  3  4  5\n",
      " 6  7  8  9 10 11 12\n",
      "13 14 15 16 17 18 19\n",
      "20 21 22 23 24 25 26\n",
      "27 28\n",
      "\n"
     ]
    }
   ],
   "source": [
    "#Q12Write a Python program that prints the calendar for a given month and year\n",
    "import calendar\n",
    "year = int(input(\"input the year:\"))\n",
    "month = int(input(\"Input the month: \"))\n",
    "print(calendar.month(year, month))"
   ]
  },
  {
   "cell_type": "code",
   "execution_count": 34,
   "id": "4e361a7b-1875-4df4-96d3-9e2cb4559cb7",
   "metadata": {},
   "outputs": [
    {
     "name": "stdout",
     "output_type": "stream",
     "text": [
      "\n",
      "be the best version of yourself\n",
      "be an.....extraordinary \n",
      "version------------------>end\n",
      "\n"
     ]
    }
   ],
   "source": [
    "#q13Write a Python program to print a multi-line 'here document'.\n",
    "print(\"\"\"\n",
    "be the best version of yourself\n",
    "be an.....extraordinary \n",
    "version------------------>end\n",
    "\"\"\")\n"
   ]
  },
  {
   "cell_type": "code",
   "execution_count": 38,
   "id": "fe1b877f-71f6-44d2-8efb-aba71c04e063",
   "metadata": {},
   "outputs": [
    {
     "name": "stdout",
     "output_type": "stream",
     "text": [
      "Days between: 5\n"
     ]
    }
   ],
   "source": [
    "#q14 Write a Python program to calculate days between two dates.\n",
    "from datetime import datetime\n",
    "first_date=date(2024,9,24)\n",
    "last_date=date(2024,9,29)\n",
    "delta=last_date-first_date\n",
    "print(f\"Days between: {delta.days}\")"
   ]
  },
  {
   "cell_type": "code",
   "execution_count": 40,
   "id": "9740cd81-29b5-40ca-a92c-b4dbe1ec6b9d",
   "metadata": {},
   "outputs": [
    {
     "name": "stdout",
     "output_type": "stream",
     "text": [
      "Volume of the sphere is: 904.7786842338603\n"
     ]
    }
   ],
   "source": [
    "#q15Write a Python program to get the volume of a sphere with radius 6.\n",
    "from math import pi\n",
    "r = 6.0\n",
    "volume = (4.0/3.0) * pi * r**3\n",
    "print(\"Volume of the sphere is:\", volume)"
   ]
  },
  {
   "cell_type": "code",
   "execution_count": 41,
   "id": "81142c77-2656-489c-bf8f-274ba323a389",
   "metadata": {},
   "outputs": [
    {
     "name": "stdout",
     "output_type": "stream",
     "text": [
      "10\n",
      "3\n"
     ]
    }
   ],
   "source": [
    "#q16Calculate the difference between a given number and 17. If the number is greater than 17, return twice the absolute difference.\n",
    "def diff_17(n):\n",
    "    if n > 17:\n",
    "        return 2 * abs(n - 17)\n",
    "    else:\n",
    "        return 17 - n\n",
    "\n",
    "print(diff_17(22))\n",
    "print(diff_17(14))"
   ]
  },
  {
   "cell_type": "code",
   "execution_count": 42,
   "id": "8086337c-342d-4824-8fc4-adce2babe87b",
   "metadata": {},
   "outputs": [
    {
     "name": "stdout",
     "output_type": "stream",
     "text": [
      "True\n",
      "True\n",
      "False\n",
      "False\n"
     ]
    }
   ],
   "source": [
    "#q17 Test whether a number is within 100 of 1000 or 2000.\n",
    "def near_thousand(n):\n",
    "    return ((abs(1000 - n) <= 100) or (abs(2000 - n) <= 100))\n",
    "\n",
    "print(near_thousand(1000))\n",
    "print(near_thousand(900))\n",
    "print(near_thousand(800))\n",
    "print(near_thousand(2200))\n"
   ]
  },
  {
   "cell_type": "code",
   "execution_count": 43,
   "id": "59b25c53-896b-476c-89ec-08f9469ad65a",
   "metadata": {},
   "outputs": [
    {
     "name": "stdout",
     "output_type": "stream",
     "text": [
      "6\n",
      "27\n"
     ]
    }
   ],
   "source": [
    "#q18Calculate the sum of three numbers. If all are equal, return thrice their sum.\n",
    "def sum_thrice(x, y, z):\n",
    "    if x == y == z:\n",
    "        return 3 * (x + y + z)\n",
    "    else:\n",
    "        return x + y + z\n",
    "\n",
    "print(sum_thrice(1, 2, 3))\n",
    "print(sum_thrice(3, 3, 3))"
   ]
  },
  {
   "cell_type": "code",
   "execution_count": 45,
   "id": "39df5551-7410-4cba-b87a-621d4af823e2",
   "metadata": {},
   "outputs": [
    {
     "name": "stdout",
     "output_type": "stream",
     "text": [
      "IsArray\n",
      "IsEmpty\n"
     ]
    }
   ],
   "source": [
    "#q19Get a new string with 'Is' added to the front. If it already begins with 'Is', return unchanged.\n",
    "def new_string(text):\n",
    "    if len(text) >= 2 and text[:2] == \"Is\":\n",
    "        return text\n",
    "    return \"Is\" + text\n",
    "\n",
    "print(new_string(\"Array\"))\n",
    "print(new_string(\"IsEmpty\"))"
   ]
  },
  {
   "cell_type": "code",
   "execution_count": 46,
   "id": "2f318222-e3bc-4317-9b29-ad01fe7a03de",
   "metadata": {},
   "outputs": [
    {
     "name": "stdout",
     "output_type": "stream",
     "text": [
      "PythonPython\n",
      "PythonPythonPython\n"
     ]
    }
   ],
   "source": [
    "#q20 Return a string that is n copies of a given string.\n",
    "def larger_string(text, n):\n",
    "    return text * n\n",
    "\n",
    "print(larger_string(\"Python\", 2))\n",
    "print(larger_string(\"Python\", 3))"
   ]
  },
  {
   "cell_type": "code",
   "execution_count": 48,
   "id": "58219f90-fed2-45e9-8c54-0340c70d913f",
   "metadata": {},
   "outputs": [
    {
     "name": "stdin",
     "output_type": "stream",
     "text": [
      "Enter a number:  6\n"
     ]
    },
    {
     "name": "stdout",
     "output_type": "stream",
     "text": [
      "Even\n"
     ]
    }
   ],
   "source": [
    "#21Determine whether a number is even or odd.\n",
    "num = int(input(\"Enter a number: \"))\n",
    "if num % 2 == 0:\n",
    "    print(\"Even\")\n",
    "else:\n",
    "    print(\"Odd\")"
   ]
  },
  {
   "cell_type": "code",
   "execution_count": 49,
   "id": "820c227d-428c-4eba-9b57-44936c5acf3e",
   "metadata": {},
   "outputs": [
    {
     "name": "stdout",
     "output_type": "stream",
     "text": [
      "2\n"
     ]
    }
   ],
   "source": [
    "#q22Count the number 4 in a given list.\n",
    "def list_count_4(nums):\n",
    "    count = 0\n",
    "    for num in nums:\n",
    "        if num == 4:\n",
    "            count += 1\n",
    "    return count\n",
    "\n",
    "print(list_count_4([1, 4, 6, 7, 4]))"
   ]
  },
  {
   "cell_type": "code",
   "execution_count": 50,
   "id": "cbba04e0-e221-4bed-b2b5-5c15d6f1d050",
   "metadata": {},
   "outputs": [
    {
     "name": "stdout",
     "output_type": "stream",
     "text": [
      "True\n",
      "False\n"
     ]
    }
   ],
   "source": [
    "#23Test whether a passed letter is a vowel or not.\n",
    "def is_vowel(char):\n",
    "    return char.lower() in 'aeiou'\n",
    "\n",
    "print(is_vowel('a'))\n",
    "print(is_vowel('b'))"
   ]
  },
  {
   "cell_type": "code",
   "execution_count": 51,
   "id": "8ed22179-6b8f-4450-8102-f3319146a3f3",
   "metadata": {},
   "outputs": [
    {
     "name": "stdout",
     "output_type": "stream",
     "text": [
      "True\n",
      "False\n"
     ]
    }
   ],
   "source": [
    "#q24 Check whether a value is contained in a group.\n",
    "def is_value_in_group(value, group):\n",
    "    return value in group\n",
    "\n",
    "print(is_value_in_group(3, [1, 5, 8, 3]))\n",
    "print(is_value_in_group(-1, [1, 5, 8, 3]))"
   ]
  },
  {
   "cell_type": "code",
   "execution_count": 52,
   "id": "ff662c8a-6ef6-426b-a741-58f127119f1a",
   "metadata": {},
   "outputs": [
    {
     "name": "stdout",
     "output_type": "stream",
     "text": [
      "**\n",
      "***\n",
      "******\n",
      "*****\n"
     ]
    }
   ],
   "source": [
    "#q25 Create a histogram from a list of integers.\n",
    "def histogram(items):\n",
    "    for n in items:\n",
    "        print('*' * n)\n",
    "\n",
    "histogram([2, 3, 6, 5])"
   ]
  },
  {
   "cell_type": "code",
   "execution_count": null,
   "id": "b72b7266-0c06-4c4a-b03c-9436296db618",
   "metadata": {},
   "outputs": [],
   "source": []
  }
 ],
 "metadata": {
  "kernelspec": {
   "display_name": "Python 3 (ipykernel)",
   "language": "python",
   "name": "python3"
  },
  "language_info": {
   "codemirror_mode": {
    "name": "ipython",
    "version": 3
   },
   "file_extension": ".py",
   "mimetype": "text/x-python",
   "name": "python",
   "nbconvert_exporter": "python",
   "pygments_lexer": "ipython3",
   "version": "3.12.7"
  }
 },
 "nbformat": 4,
 "nbformat_minor": 5
}
